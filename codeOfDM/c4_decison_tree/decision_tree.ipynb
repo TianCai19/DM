{
 "metadata": {
  "language_info": {
   "codemirror_mode": {
    "name": "ipython",
    "version": 3
   },
   "file_extension": ".py",
   "mimetype": "text/x-python",
   "name": "python",
   "nbconvert_exporter": "python",
   "pygments_lexer": "ipython3",
   "version": "3.7.3"
  },
  "orig_nbformat": 2,
  "kernelspec": {
   "name": "python37364bit84282b17c8fc49e4b6d1a77ddc584f5a",
   "display_name": "Python 3.7.3 64-bit"
  },
  "metadata": {
   "interpreter": {
    "hash": "e100df3301a6055e66e482bedc0544ab8172cad21974fa73230a16a53ea8b9c8"
   }
  }
 },
 "nbformat": 4,
 "nbformat_minor": 2,
 "cells": [
  {
   "cell_type": "code",
   "execution_count": 3,
   "metadata": {},
   "outputs": [],
   "source": [
    "import pandas as pd\n",
    "import numpy as np\n",
    "import math\n",
    "from math import log\n",
    "## author :ZGE"
   ]
  },
  {
   "source": [
    "## 1.data"
   ],
   "cell_type": "markdown",
   "metadata": {}
  },
  {
   "cell_type": "code",
   "execution_count": 4,
   "metadata": {},
   "outputs": [],
   "source": [
    "def create_data():\n",
    "    datasets = [['青年', '否', '否', '一般', '否'],\n",
    "               ['青年', '否', '否', '好', '否'],\n",
    "               ['青年', '是', '否', '好', '是'],\n",
    "               ['青年', '是', '是', '一般', '是'],\n",
    "               ['青年', '否', '否', '一般', '否'],\n",
    "               ['中年', '否', '否', '一般', '否'],\n",
    "               ['中年', '否', '否', '好', '否'],\n",
    "               ['中年', '是', '是', '好', '是'],\n",
    "               ['中年', '否', '是', '非常好', '是'],\n",
    "               ['中年', '否', '是', '非常好', '是'],\n",
    "               ['老年', '否', '是', '非常好', '是'],\n",
    "               ['老年', '否', '是', '好', '是'],\n",
    "               ['老年', '是', '否', '好', '是'],\n",
    "               ['老年', '是', '否', '非常好', '是'],\n",
    "               ['老年', '否', '否', '一般', '否'],\n",
    "               ]\n",
    "    labels = [u'年龄', u'有工作', u'有自己的房子', u'信贷情况', u'类别']\n",
    "    # 返回数据集和每个维度的名称\n",
    "    return datasets, labels"
   ]
  },
  {
   "cell_type": "code",
   "execution_count": 5,
   "metadata": {},
   "outputs": [],
   "source": [
    "datasets, labels = create_data()"
   ]
  },
  {
   "cell_type": "code",
   "execution_count": 6,
   "metadata": {},
   "outputs": [],
   "source": [
    "train_data = pd.DataFrame(datasets, columns=labels)"
   ]
  },
  {
   "cell_type": "code",
   "execution_count": 10,
   "metadata": {},
   "outputs": [],
   "source": [
    "train_data.to_csv('data.csv',index=False)"
   ]
  },
  {
   "cell_type": "code",
   "execution_count": 8,
   "metadata": {},
   "outputs": [
    {
     "output_type": "execute_result",
     "data": {
      "text/plain": [
       "    年龄 有工作 有自己的房子 信贷情况 类别\n",
       "0   青年   否      否   一般  否\n",
       "1   青年   否      否    好  否\n",
       "2   青年   是      否    好  是\n",
       "3   青年   是      是   一般  是\n",
       "4   青年   否      否   一般  否\n",
       "5   中年   否      否   一般  否\n",
       "6   中年   否      否    好  否\n",
       "7   中年   是      是    好  是\n",
       "8   中年   否      是  非常好  是\n",
       "9   中年   否      是  非常好  是\n",
       "10  老年   否      是  非常好  是\n",
       "11  老年   否      是    好  是\n",
       "12  老年   是      否    好  是\n",
       "13  老年   是      否  非常好  是\n",
       "14  老年   否      否   一般  否"
      ],
      "text/html": "<div>\n<style scoped>\n    .dataframe tbody tr th:only-of-type {\n        vertical-align: middle;\n    }\n\n    .dataframe tbody tr th {\n        vertical-align: top;\n    }\n\n    .dataframe thead th {\n        text-align: right;\n    }\n</style>\n<table border=\"1\" class=\"dataframe\">\n  <thead>\n    <tr style=\"text-align: right;\">\n      <th></th>\n      <th>年龄</th>\n      <th>有工作</th>\n      <th>有自己的房子</th>\n      <th>信贷情况</th>\n      <th>类别</th>\n    </tr>\n  </thead>\n  <tbody>\n    <tr>\n      <th>0</th>\n      <td>青年</td>\n      <td>否</td>\n      <td>否</td>\n      <td>一般</td>\n      <td>否</td>\n    </tr>\n    <tr>\n      <th>1</th>\n      <td>青年</td>\n      <td>否</td>\n      <td>否</td>\n      <td>好</td>\n      <td>否</td>\n    </tr>\n    <tr>\n      <th>2</th>\n      <td>青年</td>\n      <td>是</td>\n      <td>否</td>\n      <td>好</td>\n      <td>是</td>\n    </tr>\n    <tr>\n      <th>3</th>\n      <td>青年</td>\n      <td>是</td>\n      <td>是</td>\n      <td>一般</td>\n      <td>是</td>\n    </tr>\n    <tr>\n      <th>4</th>\n      <td>青年</td>\n      <td>否</td>\n      <td>否</td>\n      <td>一般</td>\n      <td>否</td>\n    </tr>\n    <tr>\n      <th>5</th>\n      <td>中年</td>\n      <td>否</td>\n      <td>否</td>\n      <td>一般</td>\n      <td>否</td>\n    </tr>\n    <tr>\n      <th>6</th>\n      <td>中年</td>\n      <td>否</td>\n      <td>否</td>\n      <td>好</td>\n      <td>否</td>\n    </tr>\n    <tr>\n      <th>7</th>\n      <td>中年</td>\n      <td>是</td>\n      <td>是</td>\n      <td>好</td>\n      <td>是</td>\n    </tr>\n    <tr>\n      <th>8</th>\n      <td>中年</td>\n      <td>否</td>\n      <td>是</td>\n      <td>非常好</td>\n      <td>是</td>\n    </tr>\n    <tr>\n      <th>9</th>\n      <td>中年</td>\n      <td>否</td>\n      <td>是</td>\n      <td>非常好</td>\n      <td>是</td>\n    </tr>\n    <tr>\n      <th>10</th>\n      <td>老年</td>\n      <td>否</td>\n      <td>是</td>\n      <td>非常好</td>\n      <td>是</td>\n    </tr>\n    <tr>\n      <th>11</th>\n      <td>老年</td>\n      <td>否</td>\n      <td>是</td>\n      <td>好</td>\n      <td>是</td>\n    </tr>\n    <tr>\n      <th>12</th>\n      <td>老年</td>\n      <td>是</td>\n      <td>否</td>\n      <td>好</td>\n      <td>是</td>\n    </tr>\n    <tr>\n      <th>13</th>\n      <td>老年</td>\n      <td>是</td>\n      <td>否</td>\n      <td>非常好</td>\n      <td>是</td>\n    </tr>\n    <tr>\n      <th>14</th>\n      <td>老年</td>\n      <td>否</td>\n      <td>否</td>\n      <td>一般</td>\n      <td>否</td>\n    </tr>\n  </tbody>\n</table>\n</div>"
     },
     "metadata": {},
     "execution_count": 8
    }
   ],
   "source": [
    "train_data"
   ]
  },
  {
   "cell_type": "code",
   "execution_count": null,
   "metadata": {},
   "outputs": [],
   "source": [
    "##2.熵计算：Entropy calculation"
   ]
  },
  {
   "cell_type": "code",
   "execution_count": null,
   "metadata": {},
   "outputs": [],
   "source": [
    "def calc_ent()"
   ]
  }
 ]
}