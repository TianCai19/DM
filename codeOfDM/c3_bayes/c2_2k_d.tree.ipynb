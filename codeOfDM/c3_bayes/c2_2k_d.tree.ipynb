{
 "metadata": {
  "language_info": {
   "codemirror_mode": {
    "name": "ipython",
    "version": 3
   },
   "file_extension": ".py",
   "mimetype": "text/x-python",
   "name": "python",
   "nbconvert_exporter": "python",
   "pygments_lexer": "ipython3",
   "version": "3.7.3"
  },
  "orig_nbformat": 2,
  "kernelspec": {
   "name": "python37364bit84282b17c8fc49e4b6d1a77ddc584f5a",
   "display_name": "Python 3.7.3 64-bit"
  },
  "metadata": {
   "interpreter": {
    "hash": "e100df3301a6055e66e482bedc0544ab8172cad21974fa73230a16a53ea8b9c8"
   }
  }
 },
 "nbformat": 4,
 "nbformat_minor": 2,
 "cells": [
  {
   "source": [
    "# K-D tree"
   ],
   "cell_type": "markdown",
   "metadata": {}
  },
  {
   "cell_type": "code",
   "execution_count": 43,
   "metadata": {},
   "outputs": [],
   "source": [
    "import numpy as np\n",
    "import math"
   ]
  },
  {
   "source": [
    "## data"
   ],
   "cell_type": "markdown",
   "metadata": {}
  },
  {
   "cell_type": "code",
   "execution_count": 40,
   "metadata": {},
   "outputs": [
    {
     "output_type": "stream",
     "name": "stdout",
     "text": [
      "[[2, 3], [4, 7], [5, 4], [7, 2], [8, 1], [9, 6]]\n"
     ]
    }
   ],
   "source": [
    "T=[[2,3],[5,4],[9,6],[4,7],[8,1],[7,2]]\n",
    "# print(T.T[0])\n",
    "# print(T.T[0].tolist().sort())\n",
    "# [1,2,1,2].sort()\n",
    "i=0\n",
    "# sorted(T,key=lambda x:x[i])\n",
    "# print(T)\n",
    "T.sort(key=lambda x:x[i])\n",
    "print(T)"
   ]
  },
  {
   "cell_type": "code",
   "execution_count": 74,
   "metadata": {},
   "outputs": [],
   "source": [
    "def kd_tree_marker(T,tree_id,dim): # dim-dimension \n",
    "    if T==[]:\n",
    "        return \n",
    "    # dimension calculate\n",
    "    dim=dim%totdim \n",
    "    # root-maker :\n",
    "    T.sort(key=lambda x:x[dim])\n",
    "    print(f'T={T}')\n",
    "    root_id=math.floor((len(T))/2)\n",
    "    Tree[tree_id-1]=T[root_id]\n",
    "    print(f'Tree={Tree}')\n",
    "    print(f'tree_id={tree_id}and root_id={root_id}')\n",
    "    # stop-flag:if size(T)=1\n",
    "    if len(T)==1:\n",
    "        return\n",
    "    # root-divide\n",
    "    kd_tree_marker(T[:root_id],tree_id*2,dim+1)# left son  # dim+1\n",
    "    kd_tree_marker(T[root_id+1:],tree_id*2+1,dim+1)  # right son  "
   ]
  },
  {
   "cell_type": "code",
   "execution_count": 78,
   "metadata": {},
   "outputs": [
    {
     "output_type": "stream",
     "name": "stdout",
     "text": [
      "T=[[2, 3], [4, 7], [5, 4], [7, 2], [8, 1], [9, 6]]\nTree=[[7, 2], [0, 0], [0, 0], [0, 0], [0, 0], [0, 0]]\ntree_id=1and root_id=3\nT=[[2, 3], [5, 4], [4, 7]]\nTree=[[7, 2], [5, 4], [0, 0], [0, 0], [0, 0], [0, 0]]\ntree_id=2and root_id=1\nT=[[2, 3]]\nTree=[[7, 2], [5, 4], [0, 0], [2, 3], [0, 0], [0, 0]]\ntree_id=4and root_id=0\nT=[[4, 7]]\nTree=[[7, 2], [5, 4], [0, 0], [2, 3], [4, 7], [0, 0]]\ntree_id=5and root_id=0\nT=[[8, 1], [9, 6]]\nTree=[[7, 2], [5, 4], [9, 6], [2, 3], [4, 7], [0, 0]]\ntree_id=3and root_id=1\nT=[[8, 1]]\nTree=[[7, 2], [5, 4], [9, 6], [2, 3], [4, 7], [8, 1]]\ntree_id=6and root_id=0\n"
     ]
    }
   ],
   "source": [
    "dim=0\n",
    "T=[[2,3],[5,4],[9,6],[4,7],[8,1],[7,2]]\n",
    "tree_id=1\n",
    "Tree=[[0,0],[0,0],[0,0],[0,0],[0,0],[0,0]]\n",
    "totdim=len(T[0])\n",
    "kd_tree_marker(T,tree_id,dim)"
   ]
  },
  {
   "cell_type": "code",
   "execution_count": 79,
   "metadata": {},
   "outputs": [
    {
     "output_type": "execute_result",
     "data": {
      "text/plain": [
       "[[7, 2], [5, 4], [9, 6], [2, 3], [4, 7], [8, 1]]"
      ]
     },
     "metadata": {},
     "execution_count": 79
    }
   ],
   "source": [
    "Tree"
   ]
  },
  {
   "cell_type": "code",
   "execution_count": 17,
   "metadata": {},
   "outputs": [
    {
     "output_type": "error",
     "ename": "SyntaxError",
     "evalue": "can't use starred expression here (<ipython-input-17-13fce0c20a37>, line 4)",
     "traceback": [
      "\u001b[1;36m  File \u001b[1;32m\"<ipython-input-17-13fce0c20a37>\"\u001b[1;36m, line \u001b[1;32m4\u001b[0m\n\u001b[1;31mSyntaxError\u001b[0m\u001b[1;31m:\u001b[0m can't use starred expression here\n"
     ]
    }
   ],
   "source": []
  },
  {
   "cell_type": "code",
   "execution_count": 80,
   "metadata": {},
   "outputs": [
    {
     "output_type": "execute_result",
     "data": {
      "text/plain": [
       "[False, True]"
      ]
     },
     "metadata": {},
     "execution_count": 80
    }
   ],
   "source": [
    " dx=1\n",
    " [dx<0]+[dx>=0]*(dx*dx<best[])\n",
    "#  for b in [dx < 0] + [dx >= 0] * (dx * dx < best[0]):"
   ]
  },
  {
   "cell_type": "code",
   "execution_count": 81,
   "metadata": {},
   "outputs": [
    {
     "output_type": "execute_result",
     "data": {
      "text/plain": [
       "[0, 0, 0]"
      ]
     },
     "metadata": {},
     "execution_count": 81
    }
   ],
   "source": []
  },
  {
   "cell_type": "code",
   "execution_count": null,
   "metadata": {},
   "outputs": [],
   "source": []
  }
 ]
}