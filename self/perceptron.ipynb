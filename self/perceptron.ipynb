{
 "cells": [
  {
   "cell_type": "code",
   "execution_count": 1,
   "metadata": {},
   "outputs": [],
   "source": [
    "import pandas as pd\n",
    "import numpy as np # use for the algebra operation\n",
    "import matplotlib.pyplot as plt # use for visulisation\n"
   ]
  },
  {
   "cell_type": "markdown",
   "metadata": {},
   "source": [
    "## data\n",
    "use dataFrame to store the data"
   ]
  },
  {
   "cell_type": "code",
   "execution_count": 2,
   "metadata": {},
   "outputs": [
    {
     "data": {
      "text/plain": [
       "array([[3, 3],\n",
       "       [4, 3],\n",
       "       [1, 1]])"
      ]
     },
     "execution_count": 2,
     "metadata": {},
     "output_type": "execute_result"
    }
   ],
   "source": [
    "X=np.array([[3,3],[4,3],[1,1]])\n",
    "Y=np.array([1,1,-1])\n",
    "X\n",
    "# X.dtype"
   ]
  },
  {
   "cell_type": "markdown",
   "metadata": {},
   "source": [
    "\n",
    "\n",
    "## Perceptron"
   ]
  },
  {
   "cell_type": "code",
   "execution_count": 3,
   "metadata": {},
   "outputs": [],
   "source": [
    "class Model:\n",
    "    def __init__(self,w=np.zeros(len(X)-1, dtype=np.float32),b=0,step=1):\n",
    "        self.w = w\n",
    "        self.b = b\n",
    "        self.step=step;\n",
    "    def sign(self,x):\n",
    "        y = np.dot(x,self.w)+self.b\n",
    "        return y\n",
    "    \n",
    "    def fit(self,X_train,y_train):\n",
    "        wrong_count = 1\n",
    "        while  wrong_count:\n",
    "            wrong_count = 0\n",
    "            for X,y in zip(X_train,y_train):\n",
    "                if  y * self.sign(X)<=0:\n",
    "                    self.w +=self.step * np.dot(y,X)\n",
    "                    self.b += self.step *y\n",
    "                    wrong_count +=1\n",
    "        return  \"Perceptron Model!\"  \n",
    "\n"
   ]
  },
  {
   "cell_type": "markdown",
   "metadata": {},
   "source": [
    "## train"
   ]
  },
  {
   "cell_type": "code",
   "execution_count": 4,
   "metadata": {},
   "outputs": [
    {
     "data": {
      "text/plain": [
       "'Perceptron Model!'"
      ]
     },
     "execution_count": 4,
     "metadata": {},
     "output_type": "execute_result"
    }
   ],
   "source": [
    "perceptron = Model(w=np.zeros(len(X[0])))\n",
    "perceptron.fit(X,Y)\n"
   ]
  },
  {
   "cell_type": "markdown",
   "metadata": {},
   "source": [
    "## visualization"
   ]
  },
  {
   "cell_type": "code",
   "execution_count": 7,
   "metadata": {},
   "outputs": [
    {
     "data": {
      "text/plain": [
       "<matplotlib.legend.Legend at 0x16669379630>"
      ]
     },
     "execution_count": 7,
     "metadata": {},
     "output_type": "execute_result"
    },
    {
     "data": {
      "image/png": "[encoded data removed]",
      "text/plain": [
       "<Figure size 432x288 with 1 Axes>"
      ]
     },
     "metadata": {
      "needs_background": "light"
     },
     "output_type": "display_data"
    }
   ],
   "source": [
    "x_points = np.linspace(1,10,50)\n",
    "y_ = -(perceptron.w[0] * x_points + perceptron.b) / perceptron.w[1]\n",
    "plt.plot(x_points, y_)\n",
    "plt.plot(X[:2,0],X[:2,1],'bo',color='blue',label='1')\n",
    "plt.plot(X[2:3,0],X[2:3,1],'bo',color='orange',Label='-1')\n",
    "plt.xlabel('x[0]')\n",
    "plt.ylabel('x[1]')\n",
    "plt.legend()\n",
    "\n",
    "\n",
    "\n",
    "\n"
   ]
  },
  {
   "cell_type": "code",
   "execution_count": null,
   "metadata": {},
   "outputs": [],
   "source": []
  }
 ],
 "metadata": {
  "kernelspec": {
   "display_name": "Python 3.7.3 64-bit",
   "language": "python",
   "name": "python37364bit84282b17c8fc49e4b6d1a77ddc584f5a"
  },
  "language_info": {
   "codemirror_mode": {
    "name": "ipython",
    "version": 3
   },
   "file_extension": ".py",
   "mimetype": "text/x-python",
   "name": "python",
   "nbconvert_exporter": "python",
   "pygments_lexer": "ipython3",
   "version": "3.7.3"
  },
  "metadata": {
   "interpreter": {
    "hash": "e100df3301a6055e66e482bedc0544ab8172cad21974fa73230a16a53ea8b9c8"
   }
  }
 },
 "nbformat": 4,
 "nbformat_minor": 2
}
